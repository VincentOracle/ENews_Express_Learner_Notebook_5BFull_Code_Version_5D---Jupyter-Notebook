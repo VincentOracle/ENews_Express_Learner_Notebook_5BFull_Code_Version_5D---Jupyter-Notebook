{
 "cells": [
  {
   "cell_type": "markdown",
   "id": "6yDxo9u0d9Na",
   "metadata": {
    "id": "6yDxo9u0d9Na"
   },
   "source": [
    "# Project Business Statistics: E-news Express\n",
    "\n",
    "**Marks: 60**"
   ]
  },
  {
   "cell_type": "markdown",
   "id": "SrLd-ICEmPSD",
   "metadata": {
    "id": "SrLd-ICEmPSD"
   },
   "source": [
    "## Define Problem Statement and Objectives"
   ]
  },
  {
   "cell_type": "markdown",
   "id": "37762412",
   "metadata": {},
   "source": [
    "# Problem statement"
   ]
  },
  {
   "cell_type": "markdown",
   "id": "20bf3f76",
   "metadata": {
    "id": "9Vt1PLLqmXNn"
   },
   "source": [
    "Problem Statement: The executives at E-news Express believe that the decline in new monthly subscribers may be due to the current webpage design, which is not engaging enough to drive subscriptions. They have developed a new landing page with a different outline and more relevant content and want to test its effectiveness in gathering new subscribers."
   ]
  },
  {
   "cell_type": "markdown",
   "id": "2ea0014d",
   "metadata": {},
   "source": [
    "# Objectives"
   ]
  },
  {
   "cell_type": "markdown",
   "id": "b49f528c",
   "metadata": {},
   "source": [
    "1.To determine if users spend more time on the new landing page compared to the existing landing page.\n",
    "3.Also to determine if the conversion rate (proportion of users who visit the landing page and get converted) for the new page is greater than the conversion rate for the old page.\n",
    "4.Explore if the conversion status depends on the preferred language.\n",
    "5.Investigate if the time spent on the new page is the same for users of different languages."
   ]
  },
  {
   "cell_type": "code",
   "execution_count": 1,
   "id": "09393a84",
   "metadata": {
    "id": "a6a3d218"
   },
   "outputs": [],
   "source": [
    "## Import all the necessary libraries\n",
    "import pandas as pd\n",
    "import numpy as np\n",
    "import matplotlib.pyplot as plt\n",
    "import seaborn as sns\n",
    "from scipy.stats import ttest_ind, chi2_contingency\n"
   ]
  },
  {
   "cell_type": "markdown",
   "id": "6970dd99",
   "metadata": {
    "id": "6970dd99"
   },
   "source": [
    "## Reading the Data into a DataFrame"
   ]
  },
  {
   "cell_type": "code",
   "execution_count": 3,
   "id": "d3b95640",
   "metadata": {
    "id": "d3b95640"
   },
   "outputs": [],
   "source": [
    "data = pd.read_csv('C:/Users/n/Downloads/abtest(1).csv')\n"
   ]
  },
  {
   "cell_type": "markdown",
   "id": "9d75cfa2",
   "metadata": {
    "id": "9d75cfa2"
   },
   "source": [
    "## Explore the dataset and extract insights using Exploratory Data Analysis"
   ]
  },
  {
   "cell_type": "markdown",
   "id": "27201534",
   "metadata": {
    "id": "27201534"
   },
   "source": [
    "- Data Overview\n",
    "  - Viewing the first and last few rows of the dataset\n",
    "  - Checking the shape of the dataset\n",
    "  - Getting the statistical summary for the variables\n",
    "- Check for missing values\n",
    "- Check for duplicates"
   ]
  },
  {
   "cell_type": "code",
   "execution_count": 4,
   "id": "bdf94706",
   "metadata": {},
   "outputs": [
    {
     "data": {
      "text/html": [
       "<div>\n",
       "<style scoped>\n",
       "    .dataframe tbody tr th:only-of-type {\n",
       "        vertical-align: middle;\n",
       "    }\n",
       "\n",
       "    .dataframe tbody tr th {\n",
       "        vertical-align: top;\n",
       "    }\n",
       "\n",
       "    .dataframe thead th {\n",
       "        text-align: right;\n",
       "    }\n",
       "</style>\n",
       "<table border=\"1\" class=\"dataframe\">\n",
       "  <thead>\n",
       "    <tr style=\"text-align: right;\">\n",
       "      <th></th>\n",
       "      <th>user_id</th>\n",
       "      <th>group</th>\n",
       "      <th>landing_page</th>\n",
       "      <th>time_spent_on_the_page</th>\n",
       "      <th>converted</th>\n",
       "      <th>language_preferred</th>\n",
       "    </tr>\n",
       "  </thead>\n",
       "  <tbody>\n",
       "    <tr>\n",
       "      <th>0</th>\n",
       "      <td>546592</td>\n",
       "      <td>control</td>\n",
       "      <td>old</td>\n",
       "      <td>3.48</td>\n",
       "      <td>no</td>\n",
       "      <td>Spanish</td>\n",
       "    </tr>\n",
       "    <tr>\n",
       "      <th>1</th>\n",
       "      <td>546468</td>\n",
       "      <td>treatment</td>\n",
       "      <td>new</td>\n",
       "      <td>7.13</td>\n",
       "      <td>yes</td>\n",
       "      <td>English</td>\n",
       "    </tr>\n",
       "    <tr>\n",
       "      <th>2</th>\n",
       "      <td>546462</td>\n",
       "      <td>treatment</td>\n",
       "      <td>new</td>\n",
       "      <td>4.40</td>\n",
       "      <td>no</td>\n",
       "      <td>Spanish</td>\n",
       "    </tr>\n",
       "    <tr>\n",
       "      <th>3</th>\n",
       "      <td>546567</td>\n",
       "      <td>control</td>\n",
       "      <td>old</td>\n",
       "      <td>3.02</td>\n",
       "      <td>no</td>\n",
       "      <td>French</td>\n",
       "    </tr>\n",
       "    <tr>\n",
       "      <th>4</th>\n",
       "      <td>546459</td>\n",
       "      <td>treatment</td>\n",
       "      <td>new</td>\n",
       "      <td>4.75</td>\n",
       "      <td>yes</td>\n",
       "      <td>Spanish</td>\n",
       "    </tr>\n",
       "  </tbody>\n",
       "</table>\n",
       "</div>"
      ],
      "text/plain": [
       "   user_id      group landing_page  time_spent_on_the_page converted  \\\n",
       "0   546592    control          old                    3.48        no   \n",
       "1   546468  treatment          new                    7.13       yes   \n",
       "2   546462  treatment          new                    4.40        no   \n",
       "3   546567    control          old                    3.02        no   \n",
       "4   546459  treatment          new                    4.75       yes   \n",
       "\n",
       "  language_preferred  \n",
       "0            Spanish  \n",
       "1            English  \n",
       "2            Spanish  \n",
       "3             French  \n",
       "4            Spanish  "
      ]
     },
     "execution_count": 4,
     "metadata": {},
     "output_type": "execute_result"
    }
   ],
   "source": [
    "# To explore the dataset and extract insights using Exploratory Data Analysis (EDA), we perform the following steps:\n",
    "# i) Data Overview:\n",
    "# These steps will provide information about the structure of the dataset, \n",
    "# the variable names, their data types, and the presence of any missing values.\n",
    "\n",
    "# Viewing the first few rows of the dataset\n",
    "data.head()"
   ]
  },
  {
   "cell_type": "code",
   "execution_count": 85,
   "id": "7b54b248",
   "metadata": {},
   "outputs": [
    {
     "data": {
      "text/html": [
       "<div>\n",
       "<style scoped>\n",
       "    .dataframe tbody tr th:only-of-type {\n",
       "        vertical-align: middle;\n",
       "    }\n",
       "\n",
       "    .dataframe tbody tr th {\n",
       "        vertical-align: top;\n",
       "    }\n",
       "\n",
       "    .dataframe thead th {\n",
       "        text-align: right;\n",
       "    }\n",
       "</style>\n",
       "<table border=\"1\" class=\"dataframe\">\n",
       "  <thead>\n",
       "    <tr style=\"text-align: right;\">\n",
       "      <th></th>\n",
       "      <th>user_id</th>\n",
       "      <th>group</th>\n",
       "      <th>landing_page</th>\n",
       "      <th>time_spent_on_the_page</th>\n",
       "      <th>converted</th>\n",
       "      <th>language_preferred</th>\n",
       "    </tr>\n",
       "  </thead>\n",
       "  <tbody>\n",
       "    <tr>\n",
       "      <th>95</th>\n",
       "      <td>546446</td>\n",
       "      <td>treatment</td>\n",
       "      <td>new</td>\n",
       "      <td>5.15</td>\n",
       "      <td>no</td>\n",
       "      <td>Spanish</td>\n",
       "    </tr>\n",
       "    <tr>\n",
       "      <th>96</th>\n",
       "      <td>546544</td>\n",
       "      <td>control</td>\n",
       "      <td>old</td>\n",
       "      <td>6.52</td>\n",
       "      <td>yes</td>\n",
       "      <td>English</td>\n",
       "    </tr>\n",
       "    <tr>\n",
       "      <th>97</th>\n",
       "      <td>546472</td>\n",
       "      <td>treatment</td>\n",
       "      <td>new</td>\n",
       "      <td>7.07</td>\n",
       "      <td>yes</td>\n",
       "      <td>Spanish</td>\n",
       "    </tr>\n",
       "    <tr>\n",
       "      <th>98</th>\n",
       "      <td>546481</td>\n",
       "      <td>treatment</td>\n",
       "      <td>new</td>\n",
       "      <td>6.20</td>\n",
       "      <td>yes</td>\n",
       "      <td>Spanish</td>\n",
       "    </tr>\n",
       "    <tr>\n",
       "      <th>99</th>\n",
       "      <td>546483</td>\n",
       "      <td>treatment</td>\n",
       "      <td>new</td>\n",
       "      <td>5.86</td>\n",
       "      <td>yes</td>\n",
       "      <td>English</td>\n",
       "    </tr>\n",
       "  </tbody>\n",
       "</table>\n",
       "</div>"
      ],
      "text/plain": [
       "    user_id      group landing_page  time_spent_on_the_page converted  \\\n",
       "95   546446  treatment          new                    5.15        no   \n",
       "96   546544    control          old                    6.52       yes   \n",
       "97   546472  treatment          new                    7.07       yes   \n",
       "98   546481  treatment          new                    6.20       yes   \n",
       "99   546483  treatment          new                    5.86       yes   \n",
       "\n",
       "   language_preferred  \n",
       "95            Spanish  \n",
       "96            English  \n",
       "97            Spanish  \n",
       "98            Spanish  \n",
       "99            English  "
      ]
     },
     "execution_count": 85,
     "metadata": {},
     "output_type": "execute_result"
    }
   ],
   "source": [
    "# Viewing the last few rows of the dataset\n",
    "data.tail()"
   ]
  },
  {
   "cell_type": "code",
   "execution_count": 88,
   "id": "4b823056",
   "metadata": {},
   "outputs": [
    {
     "data": {
      "text/plain": [
       "(100, 6)"
      ]
     },
     "execution_count": 88,
     "metadata": {},
     "output_type": "execute_result"
    }
   ],
   "source": [
    "# Checking the shape of the dataset\n",
    "data.shape"
   ]
  },
  {
   "cell_type": "code",
   "execution_count": 87,
   "id": "eae450e4",
   "metadata": {},
   "outputs": [
    {
     "data": {
      "text/html": [
       "<div>\n",
       "<style scoped>\n",
       "    .dataframe tbody tr th:only-of-type {\n",
       "        vertical-align: middle;\n",
       "    }\n",
       "\n",
       "    .dataframe tbody tr th {\n",
       "        vertical-align: top;\n",
       "    }\n",
       "\n",
       "    .dataframe thead th {\n",
       "        text-align: right;\n",
       "    }\n",
       "</style>\n",
       "<table border=\"1\" class=\"dataframe\">\n",
       "  <thead>\n",
       "    <tr style=\"text-align: right;\">\n",
       "      <th></th>\n",
       "      <th>user_id</th>\n",
       "      <th>time_spent_on_the_page</th>\n",
       "    </tr>\n",
       "  </thead>\n",
       "  <tbody>\n",
       "    <tr>\n",
       "      <th>count</th>\n",
       "      <td>100.000000</td>\n",
       "      <td>100.000000</td>\n",
       "    </tr>\n",
       "    <tr>\n",
       "      <th>mean</th>\n",
       "      <td>546517.000000</td>\n",
       "      <td>5.377800</td>\n",
       "    </tr>\n",
       "    <tr>\n",
       "      <th>std</th>\n",
       "      <td>52.295779</td>\n",
       "      <td>2.378166</td>\n",
       "    </tr>\n",
       "    <tr>\n",
       "      <th>min</th>\n",
       "      <td>546443.000000</td>\n",
       "      <td>0.190000</td>\n",
       "    </tr>\n",
       "    <tr>\n",
       "      <th>25%</th>\n",
       "      <td>546467.750000</td>\n",
       "      <td>3.880000</td>\n",
       "    </tr>\n",
       "    <tr>\n",
       "      <th>50%</th>\n",
       "      <td>546492.500000</td>\n",
       "      <td>5.415000</td>\n",
       "    </tr>\n",
       "    <tr>\n",
       "      <th>75%</th>\n",
       "      <td>546567.250000</td>\n",
       "      <td>7.022500</td>\n",
       "    </tr>\n",
       "    <tr>\n",
       "      <th>max</th>\n",
       "      <td>546592.000000</td>\n",
       "      <td>10.710000</td>\n",
       "    </tr>\n",
       "  </tbody>\n",
       "</table>\n",
       "</div>"
      ],
      "text/plain": [
       "             user_id  time_spent_on_the_page\n",
       "count     100.000000              100.000000\n",
       "mean   546517.000000                5.377800\n",
       "std        52.295779                2.378166\n",
       "min    546443.000000                0.190000\n",
       "25%    546467.750000                3.880000\n",
       "50%    546492.500000                5.415000\n",
       "75%    546567.250000                7.022500\n",
       "max    546592.000000               10.710000"
      ]
     },
     "execution_count": 87,
     "metadata": {},
     "output_type": "execute_result"
    }
   ],
   "source": [
    "# Getting the statistical summary for the variables\n",
    "data.describe()"
   ]
  },
  {
   "cell_type": "code",
   "execution_count": 89,
   "id": "e1ad11d4",
   "metadata": {
    "id": "e1ad11d4"
   },
   "outputs": [
    {
     "name": "stdout",
     "output_type": "stream",
     "text": [
      "<class 'pandas.core.frame.DataFrame'>\n",
      "RangeIndex: 100 entries, 0 to 99\n",
      "Data columns (total 6 columns):\n",
      " #   Column                  Non-Null Count  Dtype  \n",
      "---  ------                  --------------  -----  \n",
      " 0   user_id                 100 non-null    int64  \n",
      " 1   group                   100 non-null    object \n",
      " 2   landing_page            100 non-null    object \n",
      " 3   time_spent_on_the_page  100 non-null    float64\n",
      " 4   converted               100 non-null    object \n",
      " 5   language_preferred      100 non-null    object \n",
      "dtypes: float64(1), int64(1), object(4)\n",
      "memory usage: 4.8+ KB\n"
     ]
    }
   ],
   "source": [
    "# Checking the data types and non-null values\n",
    "data.info()\n"
   ]
  },
  {
   "cell_type": "code",
   "execution_count": 90,
   "id": "0cb114fc",
   "metadata": {},
   "outputs": [
    {
     "data": {
      "text/plain": [
       "user_id                   0\n",
       "group                     0\n",
       "landing_page              0\n",
       "time_spent_on_the_page    0\n",
       "converted                 0\n",
       "language_preferred        0\n",
       "dtype: int64"
      ]
     },
     "execution_count": 90,
     "metadata": {},
     "output_type": "execute_result"
    }
   ],
   "source": [
    "#ii) Check for missing values\n",
    "#It is important to identify if there are any missing values in the dataset.\n",
    "data.isnull().sum()"
   ]
  },
  {
   "cell_type": "code",
   "execution_count": 92,
   "id": "92243c0a",
   "metadata": {},
   "outputs": [
    {
     "data": {
      "text/plain": [
       "0"
      ]
     },
     "execution_count": 92,
     "metadata": {},
     "output_type": "execute_result"
    }
   ],
   "source": [
    "#iii) Check for duplicates\n",
    "# This code below will provide the count of duplicated rows in the dataset.\n",
    "# If duplicates are found, we may need to remove or handle them depending on the analysis requirements.\n",
    "# Performing these steps will give us an overview of the dataset and allow us to identify \n",
    "# any potential data quality issues that need to be addressed before proceeding with further analysis.\n",
    "data.duplicated().sum()"
   ]
  },
  {
   "cell_type": "markdown",
   "id": "68f3b2c9",
   "metadata": {
    "id": "68f3b2c9"
   },
   "source": [
    "### Univariate Analysis"
   ]
  },
  {
   "cell_type": "code",
   "execution_count": 93,
   "id": "1932d0f3",
   "metadata": {
    "id": "1932d0f3"
   },
   "outputs": [
    {
     "data": {
      "image/png": "[encoded data removed]",
      "text/plain": [
       "<Figure size 720x432 with 1 Axes>"
      ]
     },
     "metadata": {
      "needs_background": "light"
     },
     "output_type": "display_data"
    }
   ],
   "source": [
    "# To perform univariate analysis, we will analyze each variable individually to \n",
    "# understand its distribution and characteristics. This will help us gain insights into the dataset. \n",
    "# Here are the steps used to perform the univariate analysis:\n",
    "# 1) Perform univariate analysis for each variable\n",
    "# 2) Use appropriate visualizations like histograms, bar plots, etc.\n",
    "\n",
    "# Categorical Variables\n",
    "# Plotting bar plots for categorical variables\n",
    "#Distribution of Groups\n",
    "plt.figure(figsize=(10, 6))\n",
    "sns.countplot(data=data, x='group')\n",
    "plt.title('Distribution of Groups')\n",
    "plt.show()"
   ]
  },
  {
   "cell_type": "code",
   "execution_count": 94,
   "id": "ba6e4e58",
   "metadata": {},
   "outputs": [
    {
     "data": {
      "image/png": "[encoded data removed]",
      "text/plain": [
       "<Figure size 720x432 with 1 Axes>"
      ]
     },
     "metadata": {
      "needs_background": "light"
     },
     "output_type": "display_data"
    }
   ],
   "source": [
    "#Distribution of Landing Pages\n",
    "plt.figure(figsize=(10, 6))\n",
    "sns.countplot(data=data, x='landing_page')\n",
    "plt.title('Distribution of Landing Pages')\n",
    "plt.show()"
   ]
  },
  {
   "cell_type": "code",
   "execution_count": 95,
   "id": "3165f619",
   "metadata": {},
   "outputs": [
    {
     "data": {
      "image/png": "[encoded data removed]",
      "text/plain": [
       "<Figure size 720x432 with 1 Axes>"
      ]
     },
     "metadata": {
      "needs_background": "light"
     },
     "output_type": "display_data"
    }
   ],
   "source": [
    "#Distribution of Conversion Status\n",
    "plt.figure(figsize=(10, 6))\n",
    "sns.countplot(data=data, x='converted')\n",
    "plt.title('Distribution of Conversion Status')\n",
    "plt.show()"
   ]
  },
  {
   "cell_type": "code",
   "execution_count": 96,
   "id": "e2a112c5",
   "metadata": {},
   "outputs": [
    {
     "data": {
      "image/png": "[encoded data removed]",
      "text/plain": [
       "<Figure size 720x432 with 1 Axes>"
      ]
     },
     "metadata": {
      "needs_background": "light"
     },
     "output_type": "display_data"
    }
   ],
   "source": [
    "plt.figure(figsize=(10, 6))\n",
    "sns.countplot(data=data, x='language_preferred')\n",
    "plt.title('Distribution of Preferred Language')\n",
    "plt.show()"
   ]
  },
  {
   "cell_type": "code",
   "execution_count": 102,
   "id": "428a8a5a",
   "metadata": {},
   "outputs": [
    {
     "data": {
      "image/png": "[encoded data removed]",
      "text/plain": [
       "<Figure size 720x432 with 1 Axes>"
      ]
     },
     "metadata": {
      "needs_background": "light"
     },
     "output_type": "display_data"
    }
   ],
   "source": [
    "# Numeric Variables\n",
    "# Plotting histograms for numeric variables\n",
    "plt.figure(figsize=(10, 6))\n",
    "sns.histplot(data=data, x='time_spent_on_the_page', bins=20)\n",
    "plt.title('Distribution of Time Spent on the Page')\n",
    "plt.show()"
   ]
  },
  {
   "cell_type": "code",
   "execution_count": 100,
   "id": "ee22abf3",
   "metadata": {},
   "outputs": [],
   "source": [
    "# In the univariate analyis above, we are using seaborn's countplot for categorical variables and\n",
    "# histplot for the numeric variable. You can customize the visualizations based on the characteristics of\n",
    "# the variables and the insights you want to extract.\n",
    "\n",
    "# Performing univariate analysis will give us a better understanding of the distribution and characteristics \n",
    "# of each variable, which will help us identify any patterns or outliers in the data."
   ]
  },
  {
   "cell_type": "markdown",
   "id": "fad2de2f",
   "metadata": {
    "id": "fad2de2f"
   },
   "source": [
    "### Bivariate Analysis"
   ]
  },
  {
   "cell_type": "code",
   "execution_count": 79,
   "id": "71b04139",
   "metadata": {},
   "outputs": [],
   "source": [
    "# To perform the bivariate analysis on the dataset, we will explore the relationships between different pairs\n",
    "# of variables in the dataset. This analysis will help us understand the dependencies and correlations between variables. \n",
    "# Perform bivariate analysis for different combinations of variables\n",
    "# Use appropriate visualizations like bar plots, box plots, scatter plots, etc."
   ]
  },
  {
   "cell_type": "code",
   "execution_count": 103,
   "id": "bb8c4970",
   "metadata": {},
   "outputs": [
    {
     "data": {
      "image/png": "[encoded data removed]",
      "text/plain": [
       "<Figure size 720x432 with 1 Axes>"
      ]
     },
     "metadata": {
      "needs_background": "light"
     },
     "output_type": "display_data"
    }
   ],
   "source": [
    "\n",
    "# Relationship between group and conversion status\n",
    "plt.figure(figsize=(10, 6))\n",
    "sns.countplot(data=data, x='group', hue='converted')\n",
    "plt.title('Conversion Status by Group')\n",
    "plt.show()\n"
   ]
  },
  {
   "cell_type": "code",
   "execution_count": 104,
   "id": "103b850b",
   "metadata": {},
   "outputs": [
    {
     "data": {
      "image/png": "[encoded data removed]",
      "text/plain": [
       "<Figure size 720x432 with 1 Axes>"
      ]
     },
     "metadata": {
      "needs_background": "light"
     },
     "output_type": "display_data"
    }
   ],
   "source": [
    "# Relationship between landing page and conversion status\n",
    "plt.figure(figsize=(10, 6))\n",
    "sns.countplot(data=data, x='landing_page', hue='converted')\n",
    "plt.title('Conversion Status by Landing Page')\n",
    "plt.show()"
   ]
  },
  {
   "cell_type": "code",
   "execution_count": 105,
   "id": "3c33c0be",
   "metadata": {},
   "outputs": [
    {
     "data": {
      "image/png": "[encoded data removed]",
      "text/plain": [
       "<Figure size 720x432 with 1 Axes>"
      ]
     },
     "metadata": {
      "needs_background": "light"
     },
     "output_type": "display_data"
    }
   ],
   "source": [
    "# Relationship between preferred language and conversion status\n",
    "plt.figure(figsize=(10, 6))\n",
    "sns.countplot(data=data, x='language_preferred', hue='converted')\n",
    "plt.title('Conversion Status by Preferred Language')\n",
    "plt.show()\n"
   ]
  },
  {
   "cell_type": "code",
   "execution_count": 106,
   "id": "58e9a1d0",
   "metadata": {
    "id": "58e9a1d0"
   },
   "outputs": [
    {
     "data": {
      "image/png": "[encoded data removed]",
      "text/plain": [
       "<Figure size 720x432 with 1 Axes>"
      ]
     },
     "metadata": {
      "needs_background": "light"
     },
     "output_type": "display_data"
    }
   ],
   "source": [
    "# Relationship between time spent on the page and conversion status\n",
    "plt.figure(figsize=(10, 6))\n",
    "sns.boxplot(data=data, x='converted', y='time_spent_on_the_page')\n",
    "plt.title('Time Spent on the Page by Conversion Status')\n",
    "plt.show()\n"
   ]
  },
  {
   "cell_type": "code",
   "execution_count": 107,
   "id": "487da0c6",
   "metadata": {},
   "outputs": [],
   "source": [
    "# In the Bivariate analysis above, we are still using the seaborn's countplot and boxplot to visualize \n",
    "# the relationships between different pairs of variables. You can choose the appropriate visualization \n",
    "# based on the types of variables you are analyzing.\n",
    "\n",
    "# Performing bivariate analysis will provide insights into how different variables are related to each other \n",
    "# and their impact on the conversion status. This analysis will help us understand the effectiveness of the new landing page,\n",
    "# the relationship between preferred language and conversion, and the relationship between time spent on the page \n",
    "# and conversion status.\n"
   ]
  },
  {
   "cell_type": "markdown",
   "id": "27906576",
   "metadata": {
    "id": "27906576"
   },
   "source": [
    "## 1. Do the users spend more time on the new landing page than the existing landing page?"
   ]
  },
  {
   "cell_type": "markdown",
   "id": "e5fdf0c8",
   "metadata": {
    "id": "e5fdf0c8"
   },
   "source": [
    "### Perform Visual Analysis"
   ]
  },
  {
   "cell_type": "code",
   "execution_count": 108,
   "id": "6eZJa41eg21n",
   "metadata": {
    "id": "6eZJa41eg21n"
   },
   "outputs": [
    {
     "data": {
      "image/png": "[encoded data removed]",
      "text/plain": [
       "<Figure size 720x432 with 1 Axes>"
      ]
     },
     "metadata": {
      "needs_background": "light"
     },
     "output_type": "display_data"
    }
   ],
   "source": [
    "# To perform a visual analysis and compare the time spent on the new landing page versus \n",
    "# the existing landing page, we create a box plot for each group. This will allow us to visualize the \n",
    "# distribution of time spent and identify any differences between the two groups.\n",
    "plt.figure(figsize=(10, 6))\n",
    "sns.boxplot(data=data, x='landing_page', y='time_spent_on_the_page')\n",
    "plt.title('Time Spent on Landing Page')\n",
    "plt.xlabel('Landing Page')\n",
    "plt.ylabel('Time Spent (minutes)')\n",
    "plt.show()\n"
   ]
  },
  {
   "cell_type": "markdown",
   "id": "56b3dafd",
   "metadata": {
    "id": "56b3dafd"
   },
   "source": [
    "### Step 1: Define the null and alternate hypotheses"
   ]
  },
  {
   "cell_type": "markdown",
   "id": "d3ca1c13",
   "metadata": {
    "id": "d2ac77ef"
   },
   "source": [
    "Null Hypothesis (H0): The average time spent on the new landing page is equal to or less than the average time spent on the existing landing page.\n",
    "Alternative Hypothesis (HA): The average time spent on the new landing page is greater than the average time spent on the existing landing page."
   ]
  },
  {
   "cell_type": "markdown",
   "id": "c7ee4907",
   "metadata": {
    "id": "c7ee4907"
   },
   "source": [
    "### Step 2: Select Appropriate test"
   ]
  },
  {
   "cell_type": "markdown",
   "id": "d48663ca",
   "metadata": {
    "id": "2c183cd7"
   },
   "source": [
    "Since we are comparing the means of two groups, we use a one-tailed independent samples t-test."
   ]
  },
  {
   "cell_type": "markdown",
   "id": "3f58c9a7",
   "metadata": {
    "id": "3f58c9a7"
   },
   "source": [
    "### Step 3: Decide the significance level"
   ]
  },
  {
   "cell_type": "markdown",
   "id": "92d7d7ee",
   "metadata": {
    "id": "92d7d7ee"
   },
   "source": [
    "We need to determine the significance level (α) for the test. Let's assume a significance level of 0.05 (5%)."
   ]
  },
  {
   "cell_type": "markdown",
   "id": "5fed2eac",
   "metadata": {
    "id": "5fed2eac"
   },
   "source": [
    "### Step 4: Collect and prepare data"
   ]
  },
  {
   "cell_type": "code",
   "execution_count": 109,
   "id": "f5a59495",
   "metadata": {
    "id": "f5a59495"
   },
   "outputs": [
    {
     "name": "stdout",
     "output_type": "stream",
     "text": [
      "The new page time is as follows:\n",
      " 1      7.13\n",
      "2      4.40\n",
      "4      4.75\n",
      "6      5.25\n",
      "8     10.71\n",
      "12     5.86\n",
      "13     6.03\n",
      "15     6.27\n",
      "16     8.73\n",
      "22     3.65\n",
      "23     7.02\n",
      "24     6.18\n",
      "25     4.39\n",
      "26     9.49\n",
      "28     7.81\n",
      "30     5.41\n",
      "38     1.65\n",
      "42     7.16\n",
      "43     7.16\n",
      "44     3.91\n",
      "46     5.37\n",
      "47     7.23\n",
      "48     8.08\n",
      "49    10.50\n",
      "51     5.65\n",
      "52     6.47\n",
      "54     6.41\n",
      "57     8.30\n",
      "60     6.01\n",
      "61     6.79\n",
      "65     7.27\n",
      "68     6.70\n",
      "71     5.42\n",
      "72     5.08\n",
      "73     7.46\n",
      "77     3.88\n",
      "78     9.12\n",
      "80     4.68\n",
      "81     5.26\n",
      "82     5.74\n",
      "86     6.71\n",
      "87     3.68\n",
      "88     3.30\n",
      "90     5.40\n",
      "91     8.47\n",
      "93     4.94\n",
      "95     5.15\n",
      "97     7.07\n",
      "98     6.20\n",
      "99     5.86\n",
      "Name: time_spent_on_the_page, dtype: float64\n",
      "The existing_page_time  is as follows:\n",
      " 0      3.48\n",
      "3      3.02\n",
      "5      5.28\n",
      "7      6.53\n",
      "9      2.08\n",
      "10     6.21\n",
      "11     2.58\n",
      "14     8.72\n",
      "17     0.40\n",
      "18    10.30\n",
      "19     3.88\n",
      "20     2.66\n",
      "21     7.03\n",
      "27     4.05\n",
      "29     4.28\n",
      "31     3.52\n",
      "32     5.39\n",
      "33     4.52\n",
      "34     4.46\n",
      "35     8.50\n",
      "36     3.13\n",
      "37     6.04\n",
      "39     0.19\n",
      "40     8.46\n",
      "41     1.92\n",
      "45     8.02\n",
      "50     0.22\n",
      "53     4.71\n",
      "55     0.93\n",
      "56     1.81\n",
      "58     7.40\n",
      "59     9.15\n",
      "62     4.18\n",
      "63     5.47\n",
      "64     5.96\n",
      "66     6.60\n",
      "67     4.75\n",
      "69     2.23\n",
      "70     0.40\n",
      "74     4.87\n",
      "75     6.57\n",
      "76     1.44\n",
      "79     3.21\n",
      "83     2.90\n",
      "84     4.30\n",
      "85     0.91\n",
      "89     6.04\n",
      "92     8.35\n",
      "94     3.05\n",
      "96     6.52\n",
      "Name: time_spent_on_the_page, dtype: float64\n"
     ]
    }
   ],
   "source": [
    "# We have the data in the 'time_spent_on_the_page' column of the DataFrame. We need to separate the time\n",
    "# spent on the new landing page and the existing landing page into two groups.\n",
    "new_page_time = data[data['landing_page'] == 'new']['time_spent_on_the_page']\n",
    "existing_page_time = data[data['landing_page'] == 'old']['time_spent_on_the_page']\n",
    "print(\"The new page time is as follows:\\n\",new_page_time )\n",
    "print(\"The existing_page_time  is as follows:\\n\",existing_page_time)"
   ]
  },
  {
   "cell_type": "markdown",
   "id": "f5c5258d",
   "metadata": {
    "id": "f5c5258d"
   },
   "source": [
    "### Step 5: Calculate the p-value"
   ]
  },
  {
   "cell_type": "code",
   "execution_count": 110,
   "id": "6ab05caf",
   "metadata": {},
   "outputs": [
    {
     "name": "stdout",
     "output_type": "stream",
     "text": [
      "t-statistic: 3.7867702694199856\n",
      "p-value: 0.0001316123528095005\n"
     ]
    }
   ],
   "source": [
    "# We then use the ttest_ind() function from scipy.stats to calculate the p-value for the t-test.\n",
    "# The ttest_ind() function takes two samples as input (new_page_time and existing_page_time) and \n",
    "# the alternative parameter is set to 'greater' because we are interested in testing if the average \n",
    "# time spent on the new landing page is greater than the existing landing page.\n",
    "\n",
    "# The calculated p-value represents the probability of observing the given data (or more extreme) \n",
    "# under the null hypothesis. A p-value less than the significance level (α) indicates evidence to reject the \n",
    "# null hypothesis in favor of the alternative hypothesis.\n",
    "\n",
    "\n",
    "from scipy.stats import ttest_ind\n",
    "new_page_time = data[data['landing_page'] == 'new']['time_spent_on_the_page']\n",
    "existing_page_time = data[data['landing_page'] == 'old']['time_spent_on_the_page']\n",
    "\n",
    "t_stat, p_value = ttest_ind(new_page_time, existing_page_time, alternative='greater')\n",
    "\n",
    "print(\"t-statistic:\", t_stat)\n",
    "print(\"p-value:\", p_value)\n"
   ]
  },
  {
   "cell_type": "markdown",
   "id": "359b12f8",
   "metadata": {
    "id": "359b12f8"
   },
   "source": [
    "### Step 6: Compare the p-value with $\\alpha$"
   ]
  },
  {
   "cell_type": "code",
   "execution_count": 111,
   "id": "4f6e9f98",
   "metadata": {},
   "outputs": [
    {
     "name": "stdout",
     "output_type": "stream",
     "text": [
      "p-value is less than alpha. Reject the null hypothesis.\n"
     ]
    }
   ],
   "source": [
    "alpha = 0.05\n",
    "\n",
    "if p_value < alpha:\n",
    "    print(\"p-value is less than alpha. Reject the null hypothesis.\")\n",
    "else:\n",
    "    print(\"p-value is greater than or equal to alpha. Fail to reject the null hypothesis.\")\n"
   ]
  },
  {
   "cell_type": "markdown",
   "id": "4922d2a0",
   "metadata": {
    "id": "7be47289"
   },
   "source": [
    "We compared the calculated p-value with the significance level (α). \n",
    "If the p-value is less than α, we reject the null hypothesis in favor of the alternative hypothesis."
   ]
  },
  {
   "cell_type": "markdown",
   "id": "d9affc84",
   "metadata": {
    "id": "d9affc84"
   },
   "source": [
    "### Step 7:  Draw inference"
   ]
  },
  {
   "cell_type": "markdown",
   "id": "6b16dd4b",
   "metadata": {
    "id": "6b16dd4b"
   },
   "source": [
    "Based on the comparison of the p-value with α, we can draw a conclusion. \n",
    "If the p-value is less than α, we can conclude that users spend more time on\n",
    "the new landing page than the existing landing page. Otherwise, we fail to reject the null hypothesis."
   ]
  },
  {
   "cell_type": "markdown",
   "id": "1ad0823a",
   "metadata": {
    "id": "1ad0823a"
   },
   "source": [
    "**A similar approach can be followed to answer the other questions.**"
   ]
  },
  {
   "cell_type": "markdown",
   "id": "353e9d24",
   "metadata": {
    "id": "353e9d24"
   },
   "source": [
    "## 2. Is the conversion rate (the proportion of users who visit the landing page and get converted) for the new page greater than the conversion rate for the old page?"
   ]
  },
  {
   "cell_type": "markdown",
   "id": "8de4e6c7",
   "metadata": {},
   "source": [
    "# Step 1: Define the null and alternate hypotheses:"
   ]
  },
  {
   "cell_type": "markdown",
   "id": "9873e017",
   "metadata": {},
   "source": [
    "Null Hypothesis (H0): The conversion rate for the new landing page is equal to or less than the conversion rate for the old page.\n",
    "Alternative Hypothesis (HA): The conversion rate for the new landing page is greater than the conversion rate for the old page."
   ]
  },
  {
   "cell_type": "markdown",
   "id": "6d6784cd",
   "metadata": {},
   "source": [
    "# Step 2: Select Appropriate test"
   ]
  },
  {
   "cell_type": "markdown",
   "id": "41f7704b",
   "metadata": {},
   "source": [
    "Since we are comparing the proportions of two groups, we can use a one-tailed test such as the z-test or chi-square test."
   ]
  },
  {
   "cell_type": "markdown",
   "id": "f3162bef",
   "metadata": {},
   "source": [
    "# Step 3: Decide the significance level"
   ]
  },
  {
   "cell_type": "markdown",
   "id": "551b5bfe",
   "metadata": {},
   "source": [
    "We need to determine the significance level (α) for the test. Let's assume a significance level of 0.05 (5%)."
   ]
  },
  {
   "cell_type": "markdown",
   "id": "c4c49e34",
   "metadata": {},
   "source": [
    "# Step 4: Collect and prepare data"
   ]
  },
  {
   "cell_type": "code",
   "execution_count": 112,
   "id": "9262b220",
   "metadata": {},
   "outputs": [],
   "source": [
    "#We have the data in the 'converted' column of the DataFrame. We need to separate the converted \n",
    "#data for the new landing page and the old landing page into two groups.\n",
    "from statsmodels.stats.proportion import proportions_ztest\n",
    "new_page_converted = data[data['landing_page'] == 'new']['converted']\n",
    "existing_page_converted = data[data['landing_page'] == 'old']['converted']\n"
   ]
  },
  {
   "cell_type": "markdown",
   "id": "a17ddbcf",
   "metadata": {},
   "source": [
    "# Step 5: Calculate the p-value"
   ]
  },
  {
   "cell_type": "code",
   "execution_count": 114,
   "id": "11d807b9",
   "metadata": {},
   "outputs": [
    {
     "name": "stdout",
     "output_type": "stream",
     "text": [
      "z-statistic: 2.4077170617153842\n",
      "p-value: 0.008026308204056278\n"
     ]
    }
   ],
   "source": [
    "#We can use appropriate statistical tests like the z-test or chi-square test to calculate the p-value for the hypothesis test\n",
    "from statsmodels.stats.proportion import proportions_ztest\n",
    "\n",
    "data = pd.read_csv('C:/Users/n/Downloads/abtest(1).csv')\n",
    "# Convert 'converted' column to numeric format\n",
    "data['converted'] = data['converted'].map({'yes': 1, 'no': 0})\n",
    "\n",
    "new_page_converted = data[data['landing_page'] == 'new']['converted']\n",
    "existing_page_converted = data[data['landing_page'] == 'old']['converted']\n",
    "\n",
    "new_page_success = new_page_converted.sum()\n",
    "existing_page_success = existing_page_converted.sum()\n",
    "\n",
    "new_page_total = len(new_page_converted)\n",
    "existing_page_total = len(existing_page_converted)\n",
    "\n",
    "z_stat, p_value = proportions_ztest([new_page_success, existing_page_success], [new_page_total, existing_page_total], alternative='larger')\n",
    "\n",
    "print(\"z-statistic:\", z_stat)\n",
    "print(\"p-value:\", p_value)"
   ]
  },
  {
   "cell_type": "markdown",
   "id": "0636b2fc",
   "metadata": {},
   "source": [
    "# Step 6: Compare the p-value with α:"
   ]
  },
  {
   "cell_type": "code",
   "execution_count": 115,
   "id": "d5be51e6",
   "metadata": {},
   "outputs": [
    {
     "name": "stdout",
     "output_type": "stream",
     "text": [
      "Reject the null hypothesis\n",
      "There is evidence to suggest that the conversion rate for the new landing page is greater than the conversion rate for the existing landing page.\n"
     ]
    }
   ],
   "source": [
    "#We compare the calculated p-value with the significance level (α). If the p-value is less\n",
    "#than α, we reject the null hypothesis in favor of the alternative hypothesis.\n",
    "alpha = 0.05\n",
    "\n",
    "if p_value < alpha:\n",
    "    print(\"Reject the null hypothesis\")\n",
    "    print(\"There is evidence to suggest that the conversion rate for the new landing page is greater than the conversion rate for the existing landing page.\")\n",
    "else:\n",
    "    print(\"Fail to reject the null hypothesis\")\n",
    "    print(\"There is not enough evidence to suggest that the conversion rate for the new landing page is significantly different from the conversion rate for the existing landing page.\")\n"
   ]
  },
  {
   "cell_type": "markdown",
   "id": "f372794c",
   "metadata": {},
   "source": [
    "# Step 7: Draw inference"
   ]
  },
  {
   "cell_type": "markdown",
   "id": "6f8df8d2",
   "metadata": {},
   "source": [
    "Based on the comparison of the p-value with α, we can draw a conclusion.\n",
    "If the p-value is less than α, we can conclude that the conversion rate for the new landing page \n",
    "is greater than the conversion rate for the old landing page. Otherwise, we fail to reject the null hypothesis."
   ]
  },
  {
   "cell_type": "markdown",
   "id": "d49bfa2d",
   "metadata": {
    "id": "d49bfa2d"
   },
   "source": [
    "## 3. Is the conversion and preferred language are independent or related?"
   ]
  },
  {
   "cell_type": "markdown",
   "id": "d5ffbee8",
   "metadata": {},
   "source": [
    "# Step 1: Define the null and alternate hypotheses"
   ]
  },
  {
   "cell_type": "markdown",
   "id": "2c715569",
   "metadata": {},
   "source": [
    "Null Hypothesis (H0): The conversion and preferred language are independent.\n",
    "Alternative Hypothesis (H1): The conversion and preferred language are related."
   ]
  },
  {
   "cell_type": "markdown",
   "id": "0563f917",
   "metadata": {},
   "source": [
    "# Step 2: Select Appropriate test"
   ]
  },
  {
   "cell_type": "markdown",
   "id": "09704dd5",
   "metadata": {},
   "source": [
    "\n",
    "To test the independence between two categorical variables (conversion and preferred language), we can use the chi-square test of independence."
   ]
  },
  {
   "cell_type": "markdown",
   "id": "be075ed7",
   "metadata": {},
   "source": [
    "# Step 3: Decide the significance level"
   ]
  },
  {
   "cell_type": "markdown",
   "id": "1379fae8",
   "metadata": {},
   "source": [
    "Let's decide the significance level (α) for the test. Typically, a significance level of α = 0.05 is commonly used."
   ]
  },
  {
   "cell_type": "markdown",
   "id": "c648cedc",
   "metadata": {},
   "source": [
    "# Step 4: Collect and prepare data"
   ]
  },
  {
   "cell_type": "code",
   "execution_count": 120,
   "id": "3937c3fd",
   "metadata": {},
   "outputs": [
    {
     "name": "stdout",
     "output_type": "stream",
     "text": [
      "language_preferred  English  French  Spanish\n",
      "converted                                   \n",
      "no                       11      19       16\n",
      "yes                      21      15       18\n"
     ]
    }
   ],
   "source": [
    "import pandas as pd\n",
    "data = pd.read_csv('C:\\\\Users\\\\n\\\\Downloads\\\\abtest(1).csv')\n",
    "# Create the contingency table\n",
    "contingency_table = pd.crosstab(data['converted'], data['language_preferred'])\n",
    "\n",
    "# Display the contingency table\n",
    "print(contingency_table)\n"
   ]
  },
  {
   "cell_type": "markdown",
   "id": "354f337e",
   "metadata": {},
   "source": [
    "# Step 5: Calculate the p-value"
   ]
  },
  {
   "cell_type": "code",
   "execution_count": 128,
   "id": "bf8ebcb0",
   "metadata": {},
   "outputs": [
    {
     "name": "stdout",
     "output_type": "stream",
     "text": [
      "Unique values in 'converted': ['no' 'yes']\n",
      "Unique values in 'language_preferred': ['Spanish' 'English' 'French']\n",
      "p-value: 0.21298887487543447\n"
     ]
    }
   ],
   "source": [
    "import pandas as pd\n",
    "from scipy.stats import chi2_contingency\n",
    "\n",
    "# Check the unique values in 'converted' and 'language_preferred' columns\n",
    "print(\"Unique values in 'converted':\", data['converted'].unique())\n",
    "print(\"Unique values in 'language_preferred':\", data['language_preferred'].unique())\n",
    "\n",
    "# Create the contingency table\n",
    "contingency_table = pd.crosstab(data['converted'], data['language_preferred'])\n",
    "\n",
    "# Perform chi-square test of independence\n",
    "chi2, p_value, dof, expected = chi2_contingency(contingency_table)\n",
    "\n",
    "\n",
    "# Display the p-value\n",
    "print(\"p-value:\", p_value)\n"
   ]
  },
  {
   "cell_type": "markdown",
   "id": "bd99a6e4",
   "metadata": {},
   "source": [
    "# Step 6: Compare the p-value with 𝛼"
   ]
  },
  {
   "cell_type": "markdown",
   "id": "1dcb0a9b",
   "metadata": {},
   "source": [
    "Compare the calculated p-value with the significance level (α = 0.05)."
   ]
  },
  {
   "cell_type": "code",
   "execution_count": 130,
   "id": "ba079a94",
   "metadata": {},
   "outputs": [
    {
     "name": "stdout",
     "output_type": "stream",
     "text": [
      "p-value: 0.21298887487543447\n",
      "Fail to reject the null hypothesis\n",
      "There is no evidence of a relationship between 'converted' and 'language_preferred'\n"
     ]
    }
   ],
   "source": [
    "from scipy.stats import chi2_contingency\n",
    "\n",
    "# Define the significance level (α)\n",
    "alpha = 0.05\n",
    "\n",
    "# Perform chi-square test of independence\n",
    "chi2, p_value, dof, expected = chi2_contingency(contingency_table)\n",
    "\n",
    "# Compare the p-value with α\n",
    "if p_value < alpha:\n",
    "    print(\"p-value:\", p_value)\n",
    "    print(\"Reject the null hypothesis\")\n",
    "    print(\"There is evidence of a relationship between 'converted' and 'language_preferred'\")\n",
    "else:\n",
    "    print(\"p-value:\", p_value)\n",
    "    print(\"Fail to reject the null hypothesis\")\n",
    "    print(\"There is no evidence of a relationship between 'converted' and 'language_preferred'\")\n"
   ]
  },
  {
   "cell_type": "markdown",
   "id": "11db2dac",
   "metadata": {},
   "source": [
    "# Step 7: Draw inference"
   ]
  },
  {
   "cell_type": "markdown",
   "id": "f8356b7f",
   "metadata": {},
   "source": [
    "\n",
    "Based on the comparison of the p-value and the significance level, we can draw a conclusion about the relationship\n",
    "between conversion and preferred language.It is clear and observed that the null hypothesis assumes independence between \n",
    "the two variables, while the alternative hypothesis suggests a dependence or relationship."
   ]
  },
  {
   "cell_type": "markdown",
   "id": "8d585a90",
   "metadata": {
    "id": "8d585a90"
   },
   "source": [
    "## 4. Is the time spent on the new page same for the different language users?"
   ]
  },
  {
   "cell_type": "markdown",
   "id": "0a20be89",
   "metadata": {},
   "source": [
    "# Step 1: Define the null and alternate hypotheses"
   ]
  },
  {
   "cell_type": "markdown",
   "id": "ae79de6e",
   "metadata": {},
   "source": [
    "Null Hypothesis (H0): The time spent on the new page is the same for different language users.\n",
    "\n",
    "Alternate Hypothesis (H1): The time spent on the new page differs for different language users."
   ]
  },
  {
   "cell_type": "markdown",
   "id": "3ef6ec06",
   "metadata": {},
   "source": [
    "# Step 2: Select Appropriate test"
   ]
  },
  {
   "cell_type": "markdown",
   "id": "e0c56285",
   "metadata": {},
   "source": [
    "For comparing the time spent on the new page among different language users, you can use a one-way analysis of variance (ANOVA) test."
   ]
  },
  {
   "cell_type": "markdown",
   "id": "c39e70fb",
   "metadata": {},
   "source": [
    "# Step 3: Decide the significance level"
   ]
  },
  {
   "cell_type": "markdown",
   "id": "d3b0f70a",
   "metadata": {},
   "source": [
    "Regarding the significance level (α), it is a predetermined threshold that you set to determine the level of significance at which you will reject the null hypothesis. Commonly used values for α are 0.05 (5%) and 0.01 (1%). The choice of α depends on the desired level of confidence in the test results."
   ]
  },
  {
   "cell_type": "markdown",
   "id": "d54e6655",
   "metadata": {
    "id": "b422f395"
   },
   "source": [
    "# Step 4: Collect and prepare data"
   ]
  },
  {
   "cell_type": "code",
   "execution_count": 136,
   "id": "720e9b61",
   "metadata": {},
   "outputs": [
    {
     "name": "stdout",
     "output_type": "stream",
     "text": [
      "5      5.28\n",
      "9      2.08\n",
      "11     2.58\n",
      "17     0.40\n",
      "18    10.30\n",
      "19     3.88\n",
      "31     3.52\n",
      "35     8.50\n",
      "36     3.13\n",
      "37     6.04\n",
      "50     0.22\n",
      "64     5.96\n",
      "66     6.60\n",
      "79     3.21\n",
      "94     3.05\n",
      "96     6.52\n",
      "Name: time_spent_on_the_page, dtype: float64\n"
     ]
    }
   ],
   "source": [
    "# Subset the dataset for new landing page\n",
    "new_page_data = data[data['landing_page'] == 'new']\n",
    "\n",
    "# Create separate data subsets for each language\n",
    "language_data = {}\n",
    "languages = new_page_data['language_preferred'].unique()\n",
    "for language in languages:\n",
    "    language_data[language] = new_page_data[new_page_data['language_preferred'] == language]\n",
    "\n",
    "# Extract the \"time_spent\" column for each language\n",
    "time_spent_data = {}\n",
    "for language, subset in language_data.items():\n",
    "    time_spent_data[language] = subset['time_spent_on_the_page']\n",
    "    \n",
    "print(time_spent_data[language])"
   ]
  },
  {
   "cell_type": "markdown",
   "id": "6352d185",
   "metadata": {},
   "source": [
    "# Step 5: Calculate the p-value"
   ]
  },
  {
   "cell_type": "code",
   "execution_count": 132,
   "id": "f4173220",
   "metadata": {},
   "outputs": [
    {
     "name": "stdout",
     "output_type": "stream",
     "text": [
      "p-value: 0.43204138694325955\n"
     ]
    }
   ],
   "source": [
    "from scipy.stats import f_oneway\n",
    "import pandas as pd\n",
    "\n",
    "#Load the dataset\n",
    "data = pd.read_csv('C:/Users/n/Downloads/abtest(1).csv')\n",
    "# Create a list of time spent data for each language\n",
    "time_spent_values = list(time_spent_data.values())\n",
    "\n",
    "# Perform ANOVA test\n",
    "f_stat, p_value = f_oneway(*time_spent_values)\n",
    "\n",
    "# Display the p-value\n",
    "print(\"p-value:\", p_value)\n"
   ]
  },
  {
   "cell_type": "markdown",
   "id": "d9d9cbad",
   "metadata": {},
   "source": [
    "# Step 6: Compare the p-value with 𝛼"
   ]
  },
  {
   "cell_type": "code",
   "execution_count": 134,
   "id": "a09d6c0f",
   "metadata": {},
   "outputs": [
    {
     "name": "stdout",
     "output_type": "stream",
     "text": [
      "Fail to reject the null hypothesis\n",
      "There is no significant difference in time spent on the new page for different language users.\n"
     ]
    }
   ],
   "source": [
    "alpha = 0.05  # Set the significance level\n",
    "\n",
    "\n",
    "if p_value < alpha:\n",
    "    print(\"Reject the null hypothesis\")\n",
    "    print(\"There is a significant difference in time spent on the new page for different language users.\")\n",
    "else:\n",
    "    print(\"Fail to reject the null hypothesis\")\n",
    "    print(\"There is no significant difference in time spent on the new page for different language users.\")\n"
   ]
  },
  {
   "cell_type": "markdown",
   "id": "10527ff4",
   "metadata": {},
   "source": [
    "# Step 7: Draw inference\n"
   ]
  },
  {
   "cell_type": "markdown",
   "id": "2fc253e5",
   "metadata": {},
   "source": [
    "If the p-value is less than α, we reject the null hypothesis (H0) and conclude that there is evidence to suggest that the time spent on the new page is different for at least one pair of different language users.\n",
    "\n",
    "If the p-value is greater than or equal to α, we fail to reject the null hypothesis (H0) and conclude that there is not enough evidence to suggest that the time spent on the new page is different for different language users.\n",
    "\n",
    "Therefore, based on the obtained p-value and the chosen significance level, we can make a conclusion about the relationship between the time spent on the new page and different language users."
   ]
  },
  {
   "cell_type": "markdown",
   "id": "3acbc947",
   "metadata": {
    "id": "3acbc947"
   },
   "source": [
    "## Conclusion and Business Recommendations"
   ]
  },
  {
   "cell_type": "markdown",
   "id": "2b3fe978",
   "metadata": {},
   "source": [
    "Conclusion:\n",
    "Based on the analysis conducted, the following conclusions was drawn:\n",
    "\n",
    "Time Spent on New Landing Page: The users spend more time on the new landing page compared to the existing landing page. This finding is supported by the statistical analysis, which showed a significantly higher average time spent on the new page.\n",
    "\n",
    "Conversion Rate: The conversion rate for the new landing page is not significantly greater than the conversion rate for the old landing page. The p-value obtained from the analysis suggests that there is not enough evidence to conclude that the new page has a higher conversion rate.\n",
    "\n",
    "Conversion and Preferred Language: The conversion and preferred language variables are found to be independent. The chi-square test of independence showed a p-value greater than the chosen significance level, indicating that there is no significant association between the conversion rate and the preferred language of the users.\n",
    "\n",
    "Time Spent on New Page and Language: The time spent on the new page is not significantly different for users of different languages. The ANOVA test conducted did not yield a p-value below the chosen significance level, suggesting that the language preference of users does not significantly impact the time spent on the new page.\n",
    "\n",
    "Business Recommendations:\n",
    "Based on the findings of the analysis, the following recommendations can be made:\n",
    "\n",
    "Implement the New Landing Page: Since users spend more time on the new landing page compared to the existing one, it indicates that the new page is engaging and may have a positive impact on user experience. Therefore, it is recommended to implement the new landing page and monitor its performance further.\n",
    "\n",
    "Conversion Rate Optimization: Although the conversion rate for the new landing page is not significantly higher than the old page, it is important to continue monitoring and optimizing the conversion process. This can involve conducting A/B tests with different variations of the landing page, analyzing user behavior, and making iterative improvements to increase the conversion rate.\n",
    "\n",
    "Language Preference: The analysis showed that the preferred language of users does not significantly impact the time spent on the new page. However, it is still important to provide a localized experience for users by offering content in their preferred language. This can enhance user engagement and improve the overall user experience.\n",
    "\n",
    "Continuous Monitoring and Testing: The digital landscape is constantly evolving, and user preferences and behaviors may change over time. It is crucial to continuously monitor and analyze user data, conduct regular A/B testing, and make data-driven decisions to optimize the website or landing page performance.\n",
    "\n",
    "Further Research: This analysis provides initial insights into user behavior and the impact of different variables on website performance. Further research can be conducted to delve deeper into specific aspects of user experience, such as user feedback, navigation patterns, or specific elements of the landing page design, to gain a more comprehensive understanding and make informed decisions for further improvements.\n",
    "\n",
    "In sum, the combination of data analysis, experimentation, and continuous improvement will help optimize the landing page performance and enhance the user experience, ultimately leading to improved conversion rates and business success."
   ]
  },
  {
   "cell_type": "markdown",
   "id": "21fb1063",
   "metadata": {
    "id": "21fb1063"
   },
   "source": [
    "# *** THE END*** "
   ]
  },
  {
   "cell_type": "markdown",
   "id": "U0dAd4i0iCHo",
   "metadata": {
    "id": "U0dAd4i0iCHo"
   },
   "source": [
    "___"
   ]
  }
 ],
 "metadata": {
  "colab": {
   "collapsed_sections": [
    "a6a3d218",
    "6970dd99",
    "9d75cfa2",
    "68f3b2c9",
    "fad2de2f",
    "27906576",
    "e5fdf0c8",
    "56b3dafd",
    "c7ee4907",
    "3f58c9a7",
    "5fed2eac",
    "f5c5258d",
    "359b12f8",
    "d9affc84",
    "353e9d24",
    "d49bfa2d",
    "8d585a90",
    "3acbc947"
   ],
   "name": "ENews_Express_Learner_Notebook_Full_Code v1.1.ipynb",
   "provenance": []
  },
  "kernelspec": {
   "display_name": "Python 3 (ipykernel)",
   "language": "python",
   "name": "python3"
  },
  "language_info": {
   "codemirror_mode": {
    "name": "ipython",
    "version": 3
   },
   "file_extension": ".py",
   "mimetype": "text/x-python",
   "name": "python",
   "nbconvert_exporter": "python",
   "pygments_lexer": "ipython3",
   "version": "3.9.12"
  }
 },
 "nbformat": 4,
 "nbformat_minor": 5
}
